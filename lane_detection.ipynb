{
 "cells": [
  {
   "cell_type": "code",
   "execution_count": 1,
   "metadata": {},
   "outputs": [],
   "source": [
    "import cv2\n",
    "import numpy as np\n",
    "import matplotlib.pyplot as plt"
   ]
  },
  {
   "cell_type": "code",
   "execution_count": 16,
   "metadata": {},
   "outputs": [
    {
     "name": "stdout",
     "output_type": "stream",
     "text": [
      "1\n"
     ]
    }
   ],
   "source": [
    "cap = cv2.VideoCapture(\"video.MP4\")\n",
    "\n",
    "while True:\n",
    "    ret,frame = cap.read()\n",
    "    gray = cv2.cvtColor(frame,cv2.COLOR_BGR2GRAY)\n",
    "    gray = gray[250:650,:]\n",
    "    \n",
    "    #print(gray.shape)\n",
    "    \n",
    "    #blur1 = cv2.blur(gray,(5,5)) \n",
    "    blur2 = cv2.medianBlur(gray,9)\n",
    "    blur3 = cv2.GaussianBlur(blur2,(7,7),0)\n",
    "    \n",
    "    ret,th1 = cv2.threshold(blur3,190,255,cv2.THRESH_TOZERO_INV)\n",
    "    ret,th1 = cv2.threshold(th1,110,255,cv2.THRESH_BINARY)\n",
    "    #th2 = cv2.adaptiveThreshold(gray,255,cv2.ADAPTIVE_THRESH_GAUSSIAN_C,cv2.THRESH_BINARY,7,2)\n",
    "    \n",
    "    kernel = np.ones((5,5),np.uint8)\n",
    "    #erosion = cv2.erode(th1,kernel,iterations=1)\n",
    "    \n",
    "    #closing = cv2.morphologyEx(dilation,cv2.MORPH_CLOSE,kernel)\n",
    "    opening = cv2.morphologyEx(th1,cv2.MORPH_OPEN,kernel)\n",
    "    dilation = cv2.dilate(opening,kernel,iterations=1)\n",
    "    \n",
    "    black = np.zeros((400,1280))\n",
    "    edges = cv2.Canny(dilation,240,260)\n",
    "    lines = cv2.HoughLinesP(dilation,1,np.pi/180,30,minLineLength=40,maxLineGap=80)\n",
    "    \n",
    "    #print(lines.shape)\n",
    "    \n",
    "    if lines is not None:     #Error - NoneType obj is not iterable\n",
    "        for line in lines:\n",
    "            x1,y1,x2,y2 = line[0]\n",
    "            cv2.line(black,(x1,y1),(x2,y2),(255,255,255),2)\n",
    "            \n",
    "    dilate_2 = cv2.dilate(dilation,kernel,iterations=1)\n",
    "    opening_2 = cv2.morphologyEx(dilate_2, cv2.MORPH_OPEN,kernel)\n",
    "    \n",
    "    #print(opening_2.shape)\n",
    "    \n",
    "    img = opening_2\n",
    "    white_pts = []\n",
    "    mid_pts = []\n",
    "    final_mid = []\n",
    "    \n",
    "    for j in range(50):\n",
    "        for i in range(1280):\n",
    "            if img[300+j][i] == 255:\n",
    "                white_pts.append(i)\n",
    "            try:    \n",
    "                x1 = min(white_pts)\n",
    "                x2 = max(white_pts)\n",
    "                mid_pts.append((x1+x2)/2)\n",
    "            except:\n",
    "                mid_pts.append(640)\n",
    "                \n",
    "    mid = int(sum(mid_pts)/len(mid_pts))\n",
    "    final_mid.append(mid)\n",
    "    cv2.circle(img,(mid,300),15,(255,255,255),1)\n",
    "    \n",
    "    print(len(final_mid))\n",
    "    #cv2.imshow(\"Thresh\",th1)\n",
    "    #cv2.imshow(\"Dilation\",dilate_2)\n",
    "    #cv2.imshow(\"Closing\",closing)\n",
    "    #cv2.imshow(\"Opening\",opening_2)\n",
    "    #cv2.imshow(\"AdaptiveThresh\",th2)\n",
    "    #cv2.imshow(\"Original\",frame)\n",
    "    \n",
    "    cv2.imshow(\"Final\",img)\n",
    "    \n",
    "    key_pressed = cv2.waitKey(1) & 0xFF\n",
    "    if(key_pressed == ord('q')):\n",
    "        break\n",
    "    \n",
    "cap.release()\n",
    "cv2.destroyAllWindows()"
   ]
  },
  {
   "cell_type": "code",
   "execution_count": null,
   "metadata": {},
   "outputs": [],
   "source": []
  },
  {
   "cell_type": "code",
   "execution_count": null,
   "metadata": {},
   "outputs": [],
   "source": []
  },
  {
   "cell_type": "code",
   "execution_count": null,
   "metadata": {},
   "outputs": [],
   "source": []
  }
 ],
 "metadata": {
  "kernelspec": {
   "display_name": "Python 3",
   "language": "python",
   "name": "python3"
  },
  "language_info": {
   "codemirror_mode": {
    "name": "ipython",
    "version": 3
   },
   "file_extension": ".py",
   "mimetype": "text/x-python",
   "name": "python",
   "nbconvert_exporter": "python",
   "pygments_lexer": "ipython3",
   "version": "3.7.3"
  }
 },
 "nbformat": 4,
 "nbformat_minor": 2
}
